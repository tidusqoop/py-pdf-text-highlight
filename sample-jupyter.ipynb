{
 "cells": [
  {
   "cell_type": "code",
   "execution_count": 2,
   "id": "be9481f9-10fd-4139-94a2-90e38786cc39",
   "metadata": {},
   "outputs": [],
   "source": [
    "from pdfhandler import find_word"
   ]
  },
  {
   "cell_type": "code",
   "execution_count": null,
   "id": "675efb99-63c6-4d73-8697-e6bee9f373aa",
   "metadata": {},
   "outputs": [],
   "source": [
    "find_word(['sample00.pdf', 'sample01.pdf', 'sample02.pdf'], ['love', 'used', 'content', 'table'])"
   ]
  }
 ],
 "metadata": {
  "kernelspec": {
   "display_name": "Python 3 (ipykernel)",
   "language": "python",
   "name": "python3"
  },
  "language_info": {
   "codemirror_mode": {
    "name": "ipython",
    "version": 3
   },
   "file_extension": ".py",
   "mimetype": "text/x-python",
   "name": "python",
   "nbconvert_exporter": "python",
   "pygments_lexer": "ipython3",
   "version": "3.7.2"
  }
 },
 "nbformat": 4,
 "nbformat_minor": 5
}
